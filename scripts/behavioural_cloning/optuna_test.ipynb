{
 "cells": [
  {
   "cell_type": "code",
   "execution_count": 9,
   "metadata": {},
   "outputs": [
    {
     "name": "stdout",
     "output_type": "stream",
     "text": [
      "Using cpu device\n"
     ]
    }
   ],
   "source": [
    "import torch\n",
    "from torch import nn\n",
    "from torch.utils.data import DataLoader, Sampler, BatchSampler, Dataset\n",
    "\n",
    "import optuna\n",
    "\n",
    "import tables\n",
    "import numpy as np\n",
    "from sklearn.model_selection import train_test_split\n",
    "import matplotlib.pyplot as plt\n",
    "\n",
    "import logging\n",
    "import sys\n",
    "\n",
    "device = \"cuda\" if torch.cuda.is_available() else \"cpu\"\n",
    "print(f\"Using {device} device\")"
   ]
  },
  {
   "cell_type": "markdown",
   "metadata": {},
   "source": [
    "# Load data"
   ]
  },
  {
   "cell_type": "code",
   "execution_count": 2,
   "metadata": {},
   "outputs": [],
   "source": [
    "class ExpertDataset(Dataset):\n",
    "    def __init__(self, images, actions):\n",
    "        self._images = images\n",
    "        self._actions = actions\n",
    "\n",
    "    def __getitem__(self, index):\n",
    "        return (self._images[index], self._actions[index])\n",
    "\n",
    "    def __len__(self):\n",
    "        return len(self._images)\n",
    "\n",
    "\n",
    "class RandomBatchSampler(Sampler):\n",
    "    def __init__(self, dataset, batch_size):\n",
    "        self.batch_size = batch_size\n",
    "        self.dataset_length = len(dataset)\n",
    "        self.n_batches = self.dataset_length / self.batch_size\n",
    "        self.batch_ids = torch.randperm(int(self.n_batches))\n",
    "\n",
    "    def __len__(self):\n",
    "        return self.batch_size\n",
    "\n",
    "    def __iter__(self):\n",
    "        for id in self.batch_ids:\n",
    "            idx = torch.arange(id * self.batch_size, (id + 1) * self.batch_size)\n",
    "            for index in idx:\n",
    "                yield int(index)\n",
    "        if int(self.n_batches) < self.n_batches:\n",
    "            idx = torch.arange(int(self.n_batches) * self.batch_size, self.dataset_length)\n",
    "            for index in idx:\n",
    "                yield int(index)\n",
    "\n",
    "\n",
    "def fast_loader(dataset, batch_size=32, drop_last=False, transforms=None):\n",
    "    return DataLoader(\n",
    "        dataset, batch_size=None,\n",
    "        sampler=BatchSampler(RandomBatchSampler(dataset, batch_size), batch_size=batch_size, drop_last=drop_last)\n",
    "    )"
   ]
  },
  {
   "cell_type": "code",
   "execution_count": 3,
   "metadata": {},
   "outputs": [],
   "source": [
    "hdf5_file = tables.open_file('tmnf_1os.hdf5', mode=\"r\")\n",
    "images = np.moveaxis(hdf5_file.root.images[:], 3, 1)\n",
    "actions = hdf5_file.root.actions[:]\n",
    "hdf5_file.close()\n",
    "\n",
    "size = images.shape[0]\n",
    "fold = 0.3\n",
    "rng = np.random.default_rng()\n",
    "indexes = rng.choice(size, size=int(fold * size), replace=False)\n",
    "\n",
    "images = images[indexes]\n",
    "actions = actions[indexes]\n",
    "\n",
    "images = torch.tensor(images / 255, dtype=torch.float32)\n",
    "actions = torch.tensor(actions, dtype=torch.float32)\n",
    "\n",
    "train_images, test_images, train_actions, test_actions = train_test_split(\n",
    "    images, actions, test_size=0.15, random_state=42\n",
    ")"
   ]
  },
  {
   "cell_type": "code",
   "execution_count": 4,
   "metadata": {},
   "outputs": [],
   "source": [
    "train_dataset = ExpertDataset(train_images, train_actions)\n",
    "test_dataset = ExpertDataset(test_images, test_actions)"
   ]
  },
  {
   "cell_type": "markdown",
   "metadata": {},
   "source": [
    "# NN Model"
   ]
  },
  {
   "cell_type": "code",
   "execution_count": 5,
   "metadata": {},
   "outputs": [],
   "source": [
    "class NeuralNetwork(nn.Module):\n",
    "    def __init__(self, conv_layers_types: list[str], conv_layers_outputs: list[int], kernel_sizes: list[int], strides: list[int]):\n",
    "        super(NeuralNetwork, self).__init__()\n",
    "\n",
    "        inputs = 4\n",
    "        outputs = 4\n",
    "        convw, convh = 53, 150\n",
    "        layers = []\n",
    "\n",
    "        for layer_type, layer_outputs, kernel_size, stride in zip(conv_layers_types, conv_layers_outputs, kernel_sizes, strides):\n",
    "            layers.append(nn.Conv2d(inputs, layer_outputs, kernel_size=kernel_size, stride=stride, padding=0))\n",
    "            if layer_type == 'relu':\n",
    "                layers.append(nn.ReLU())\n",
    "            elif layer_type == 'tanh':\n",
    "                layers.append(nn.Tanh())\n",
    "            elif layer_type == 'sigmoid':\n",
    "                layers.append(nn.Sigmoid())\n",
    "            inputs = layer_outputs\n",
    "            convw = (convw - kernel_size) // stride + 1\n",
    "            convh = (convh - kernel_size) // stride + 1\n",
    "\n",
    "        layers.append(nn.Flatten())\n",
    "        layers.append(nn.Linear(inputs * convw * convh, outputs))\n",
    "        layers.append(nn.Sigmoid())\n",
    "\n",
    "        self.layers_sequence = nn.Sequential(*layers)\n",
    "\n",
    "    def forward(self, x):\n",
    "        logits = self.layers_sequence(x)\n",
    "        return logits"
   ]
  },
  {
   "cell_type": "markdown",
   "metadata": {},
   "source": [
    "# Training"
   ]
  },
  {
   "cell_type": "code",
   "execution_count": 8,
   "metadata": {},
   "outputs": [],
   "source": [
    "def train(dataloader, model, loss_fn, optimizer):\n",
    "    train_loss = 0.\n",
    "    model.train()\n",
    "    for X, y in dataloader:\n",
    "        X, y = X.to(device), y.to(device)\n",
    "\n",
    "        pred = model(X)\n",
    "        loss = loss_fn(pred, y)\n",
    "\n",
    "        optimizer.zero_grad()\n",
    "        loss.backward()\n",
    "        optimizer.step()\n",
    "\n",
    "        train_loss += loss.item()\n",
    "\n",
    "    return train_loss\n",
    "\n",
    "\n",
    "def test(dataloader, model, loss_fn):\n",
    "    size = len(dataloader.dataset)\n",
    "    model.eval()\n",
    "    test_loss, correct = 0., 0.\n",
    "    threshod = 0.5\n",
    "    with torch.no_grad():\n",
    "        for X, y in dataloader:\n",
    "            X, y = X.to(device), y.to(device)\n",
    "            pred = model(X)\n",
    "            test_loss += loss_fn(pred, y).item()\n",
    "            pred = pred > threshod\n",
    "            correct += (pred == y).type(torch.float).sum().item() == len(y[0])\n",
    "            # correct += (pred == y).type(torch.float).sum().item() / len(y[0])\n",
    "    correct /= size\n",
    "    # print(f\"test accuracy: {(100*correct):>0.1f}%, avg loss: {test_loss:>8f}\")\n",
    "    return correct * 100, test_loss"
   ]
  },
  {
   "cell_type": "markdown",
   "metadata": {},
   "source": [
    "# Optuna"
   ]
  },
  {
   "cell_type": "code",
   "execution_count": 22,
   "metadata": {},
   "outputs": [],
   "source": [
    "def objective(trial):\n",
    "\n",
    "    epochs = 20\n",
    "\n",
    "    layer_1 = trial.suggest_categorical(\"layer_1\", [\"relu\", \"tanh\", \"sigmoid\"])\n",
    "    layer_2 = trial.suggest_categorical(\"layer_2\", [\"relu\", \"tanh\", \"sigmoid\"])\n",
    "    layer_3 = trial.suggest_categorical(\"layer_3\", [\"relu\", \"tanh\", \"sigmoid\"])\n",
    "\n",
    "    outs_1 = trial.suggest_categorical(\"outs_1\", [16, 32, 64])\n",
    "    outs_2 = trial.suggest_categorical(\"outs_2\", [16, 32, 64, 128])\n",
    "    outs_3 = trial.suggest_categorical(\"outs_3\", [32, 64])\n",
    "    \n",
    "    kernel_size_1 = 8\n",
    "    kernel_size_2 = 4\n",
    "    kernel_size_3 = 3\n",
    "    \n",
    "    stride_1 = 4\n",
    "    stride_2 = 2\n",
    "    stride_3 = 1\n",
    "\n",
    "    learning_rate = trial.suggest_float(\"learning_rate\", 1e-5, 1e-2, log=True)\n",
    "    batch_size = trial.suggest_int(\"batch_size\", 32, 512, log=True)\n",
    "\n",
    "    layers = [layer_1, layer_2, layer_3]\n",
    "    layers_out = [outs_1, outs_2, outs_3]\n",
    "    kernel_sizes = [kernel_size_1, kernel_size_2, kernel_size_3]\n",
    "    strides = [stride_1, stride_2, stride_3]\n",
    "\n",
    "    model = NeuralNetwork(layers, layers_out, kernel_sizes, strides).to(device)\n",
    "\n",
    "    loss_fn = nn.CrossEntropyLoss()\n",
    "    optimizer = torch.optim.Adam(model.parameters(), lr=learning_rate)\n",
    "\n",
    "    train_dataloader = fast_loader(train_dataset, batch_size=batch_size)\n",
    "    test_dataloader = fast_loader(test_dataset, batch_size=1)\n",
    "\n",
    "    best = 0\n",
    "    train_losses = []\n",
    "    test_losses = []\n",
    "\n",
    "    global global_best\n",
    "\n",
    "    for epoch in range(epochs):\n",
    "        train_loss = train(train_dataloader, model, loss_fn, optimizer)\n",
    "        acc, test_loss = test(test_dataloader, model, loss_fn)\n",
    "        \n",
    "        train_losses.append(train_loss)\n",
    "        test_losses.append(test_loss)\n",
    "\n",
    "        if acc > best:\n",
    "            best = acc\n",
    "            if best > global_best:\n",
    "                global_best = best\n",
    "                torch.save({\n",
    "                    'epoch': epoch,\n",
    "                    'model_state_dict': model.state_dict(),\n",
    "                    'optimizer_state_dict': optimizer.state_dict(),\n",
    "                    'loss': test_loss,\n",
    "                    'acc': acc,\n",
    "                    'activations': layers,\n",
    "                    'out_channels': layers_out,\n",
    "                    'kernel_sizes': kernel_sizes\n",
    "                    }, f'{trial.number}-{epoch}-acc{int(acc)}'\n",
    "                )\n",
    "\n",
    "    _fig, axs = plt.subplots(1, 2, figsize=(15, 7))\n",
    "    epochs_t = [epoch for epoch in range(epochs)]\n",
    "    _ = axs[0].plot(epochs_t, train_losses, 'b')\n",
    "    _ = axs[1].plot(epochs_t, test_losses, 'r')\n",
    "    \n",
    "    return best\n",
    "    "
   ]
  },
  {
   "cell_type": "markdown",
   "metadata": {},
   "source": [
    "# Test"
   ]
  },
  {
   "cell_type": "code",
   "execution_count": 23,
   "metadata": {},
   "outputs": [
    {
     "name": "stderr",
     "output_type": "stream",
     "text": [
      "\u001b[32m[I 2022-06-28 23:16:28,626]\u001b[0m A new study created in memory with name: no-name-562a0a9c-e89d-43ba-83fe-7be487b52aed\u001b[0m\n"
     ]
    },
    {
     "name": "stdout",
     "output_type": "stream",
     "text": [
      "A new study created in memory with name: no-name-562a0a9c-e89d-43ba-83fe-7be487b52aed\n",
      "A new study created in memory with name: no-name-562a0a9c-e89d-43ba-83fe-7be487b52aed\n",
      "A new study created in memory with name: no-name-562a0a9c-e89d-43ba-83fe-7be487b52aed\n",
      "A new study created in memory with name: no-name-562a0a9c-e89d-43ba-83fe-7be487b52aed\n",
      "A new study created in memory with name: no-name-562a0a9c-e89d-43ba-83fe-7be487b52aed\n",
      "A new study created in memory with name: no-name-562a0a9c-e89d-43ba-83fe-7be487b52aed\n",
      "A new study created in memory with name: no-name-562a0a9c-e89d-43ba-83fe-7be487b52aed\n",
      "A new study created in memory with name: no-name-562a0a9c-e89d-43ba-83fe-7be487b52aed\n"
     ]
    },
    {
     "name": "stderr",
     "output_type": "stream",
     "text": [
      "\u001b[32m[I 2022-06-28 23:17:13,722]\u001b[0m Trial 0 finished with value: 36.98290810007431 and parameters: {'layer_1': 'sigmoid', 'layer_2': 'tanh', 'layer_3': 'tanh', 'outs_1': 64, 'outs_2': 64, 'outs_3': 64, 'learning_rate': 2.111839097467436e-05, 'batch_size': 479}. Best is trial 0 with value: 36.98290810007431.\u001b[0m\n"
     ]
    },
    {
     "name": "stdout",
     "output_type": "stream",
     "text": [
      "Trial 0 finished with value: 36.98290810007431 and parameters: {'layer_1': 'sigmoid', 'layer_2': 'tanh', 'layer_3': 'tanh', 'outs_1': 64, 'outs_2': 64, 'outs_3': 64, 'learning_rate': 2.111839097467436e-05, 'batch_size': 479}. Best is trial 0 with value: 36.98290810007431.\n",
      "Trial 0 finished with value: 36.98290810007431 and parameters: {'layer_1': 'sigmoid', 'layer_2': 'tanh', 'layer_3': 'tanh', 'outs_1': 64, 'outs_2': 64, 'outs_3': 64, 'learning_rate': 2.111839097467436e-05, 'batch_size': 479}. Best is trial 0 with value: 36.98290810007431.\n",
      "Trial 0 finished with value: 36.98290810007431 and parameters: {'layer_1': 'sigmoid', 'layer_2': 'tanh', 'layer_3': 'tanh', 'outs_1': 64, 'outs_2': 64, 'outs_3': 64, 'learning_rate': 2.111839097467436e-05, 'batch_size': 479}. Best is trial 0 with value: 36.98290810007431.\n",
      "Trial 0 finished with value: 36.98290810007431 and parameters: {'layer_1': 'sigmoid', 'layer_2': 'tanh', 'layer_3': 'tanh', 'outs_1': 64, 'outs_2': 64, 'outs_3': 64, 'learning_rate': 2.111839097467436e-05, 'batch_size': 479}. Best is trial 0 with value: 36.98290810007431.\n",
      "Trial 0 finished with value: 36.98290810007431 and parameters: {'layer_1': 'sigmoid', 'layer_2': 'tanh', 'layer_3': 'tanh', 'outs_1': 64, 'outs_2': 64, 'outs_3': 64, 'learning_rate': 2.111839097467436e-05, 'batch_size': 479}. Best is trial 0 with value: 36.98290810007431.\n",
      "Trial 0 finished with value: 36.98290810007431 and parameters: {'layer_1': 'sigmoid', 'layer_2': 'tanh', 'layer_3': 'tanh', 'outs_1': 64, 'outs_2': 64, 'outs_3': 64, 'learning_rate': 2.111839097467436e-05, 'batch_size': 479}. Best is trial 0 with value: 36.98290810007431.\n",
      "Trial 0 finished with value: 36.98290810007431 and parameters: {'layer_1': 'sigmoid', 'layer_2': 'tanh', 'layer_3': 'tanh', 'outs_1': 64, 'outs_2': 64, 'outs_3': 64, 'learning_rate': 2.111839097467436e-05, 'batch_size': 479}. Best is trial 0 with value: 36.98290810007431.\n",
      "Trial 0 finished with value: 36.98290810007431 and parameters: {'layer_1': 'sigmoid', 'layer_2': 'tanh', 'layer_3': 'tanh', 'outs_1': 64, 'outs_2': 64, 'outs_3': 64, 'learning_rate': 2.111839097467436e-05, 'batch_size': 479}. Best is trial 0 with value: 36.98290810007431.\n"
     ]
    },
    {
     "name": "stderr",
     "output_type": "stream",
     "text": [
      "\u001b[32m[I 2022-06-28 23:17:54,562]\u001b[0m Trial 1 finished with value: 36.98290810007431 and parameters: {'layer_1': 'sigmoid', 'layer_2': 'tanh', 'layer_3': 'relu', 'outs_1': 64, 'outs_2': 32, 'outs_3': 32, 'learning_rate': 0.00012060229595919095, 'batch_size': 88}. Best is trial 0 with value: 36.98290810007431.\u001b[0m\n"
     ]
    },
    {
     "name": "stdout",
     "output_type": "stream",
     "text": [
      "Trial 1 finished with value: 36.98290810007431 and parameters: {'layer_1': 'sigmoid', 'layer_2': 'tanh', 'layer_3': 'relu', 'outs_1': 64, 'outs_2': 32, 'outs_3': 32, 'learning_rate': 0.00012060229595919095, 'batch_size': 88}. Best is trial 0 with value: 36.98290810007431.\n",
      "Trial 1 finished with value: 36.98290810007431 and parameters: {'layer_1': 'sigmoid', 'layer_2': 'tanh', 'layer_3': 'relu', 'outs_1': 64, 'outs_2': 32, 'outs_3': 32, 'learning_rate': 0.00012060229595919095, 'batch_size': 88}. Best is trial 0 with value: 36.98290810007431.\n",
      "Trial 1 finished with value: 36.98290810007431 and parameters: {'layer_1': 'sigmoid', 'layer_2': 'tanh', 'layer_3': 'relu', 'outs_1': 64, 'outs_2': 32, 'outs_3': 32, 'learning_rate': 0.00012060229595919095, 'batch_size': 88}. Best is trial 0 with value: 36.98290810007431.\n",
      "Trial 1 finished with value: 36.98290810007431 and parameters: {'layer_1': 'sigmoid', 'layer_2': 'tanh', 'layer_3': 'relu', 'outs_1': 64, 'outs_2': 32, 'outs_3': 32, 'learning_rate': 0.00012060229595919095, 'batch_size': 88}. Best is trial 0 with value: 36.98290810007431.\n",
      "Trial 1 finished with value: 36.98290810007431 and parameters: {'layer_1': 'sigmoid', 'layer_2': 'tanh', 'layer_3': 'relu', 'outs_1': 64, 'outs_2': 32, 'outs_3': 32, 'learning_rate': 0.00012060229595919095, 'batch_size': 88}. Best is trial 0 with value: 36.98290810007431.\n",
      "Trial 1 finished with value: 36.98290810007431 and parameters: {'layer_1': 'sigmoid', 'layer_2': 'tanh', 'layer_3': 'relu', 'outs_1': 64, 'outs_2': 32, 'outs_3': 32, 'learning_rate': 0.00012060229595919095, 'batch_size': 88}. Best is trial 0 with value: 36.98290810007431.\n",
      "Trial 1 finished with value: 36.98290810007431 and parameters: {'layer_1': 'sigmoid', 'layer_2': 'tanh', 'layer_3': 'relu', 'outs_1': 64, 'outs_2': 32, 'outs_3': 32, 'learning_rate': 0.00012060229595919095, 'batch_size': 88}. Best is trial 0 with value: 36.98290810007431.\n",
      "Trial 1 finished with value: 36.98290810007431 and parameters: {'layer_1': 'sigmoid', 'layer_2': 'tanh', 'layer_3': 'relu', 'outs_1': 64, 'outs_2': 32, 'outs_3': 32, 'learning_rate': 0.00012060229595919095, 'batch_size': 88}. Best is trial 0 with value: 36.98290810007431.\n"
     ]
    },
    {
     "name": "stderr",
     "output_type": "stream",
     "text": [
      "\u001b[32m[I 2022-06-28 23:18:34,874]\u001b[0m Trial 2 finished with value: 40.94624721327719 and parameters: {'layer_1': 'sigmoid', 'layer_2': 'sigmoid', 'layer_3': 'relu', 'outs_1': 64, 'outs_2': 32, 'outs_3': 32, 'learning_rate': 0.0005933879304671034, 'batch_size': 35}. Best is trial 2 with value: 40.94624721327719.\u001b[0m\n"
     ]
    },
    {
     "name": "stdout",
     "output_type": "stream",
     "text": [
      "Trial 2 finished with value: 40.94624721327719 and parameters: {'layer_1': 'sigmoid', 'layer_2': 'sigmoid', 'layer_3': 'relu', 'outs_1': 64, 'outs_2': 32, 'outs_3': 32, 'learning_rate': 0.0005933879304671034, 'batch_size': 35}. Best is trial 2 with value: 40.94624721327719.\n",
      "Trial 2 finished with value: 40.94624721327719 and parameters: {'layer_1': 'sigmoid', 'layer_2': 'sigmoid', 'layer_3': 'relu', 'outs_1': 64, 'outs_2': 32, 'outs_3': 32, 'learning_rate': 0.0005933879304671034, 'batch_size': 35}. Best is trial 2 with value: 40.94624721327719.\n",
      "Trial 2 finished with value: 40.94624721327719 and parameters: {'layer_1': 'sigmoid', 'layer_2': 'sigmoid', 'layer_3': 'relu', 'outs_1': 64, 'outs_2': 32, 'outs_3': 32, 'learning_rate': 0.0005933879304671034, 'batch_size': 35}. Best is trial 2 with value: 40.94624721327719.\n",
      "Trial 2 finished with value: 40.94624721327719 and parameters: {'layer_1': 'sigmoid', 'layer_2': 'sigmoid', 'layer_3': 'relu', 'outs_1': 64, 'outs_2': 32, 'outs_3': 32, 'learning_rate': 0.0005933879304671034, 'batch_size': 35}. Best is trial 2 with value: 40.94624721327719.\n",
      "Trial 2 finished with value: 40.94624721327719 and parameters: {'layer_1': 'sigmoid', 'layer_2': 'sigmoid', 'layer_3': 'relu', 'outs_1': 64, 'outs_2': 32, 'outs_3': 32, 'learning_rate': 0.0005933879304671034, 'batch_size': 35}. Best is trial 2 with value: 40.94624721327719.\n",
      "Trial 2 finished with value: 40.94624721327719 and parameters: {'layer_1': 'sigmoid', 'layer_2': 'sigmoid', 'layer_3': 'relu', 'outs_1': 64, 'outs_2': 32, 'outs_3': 32, 'learning_rate': 0.0005933879304671034, 'batch_size': 35}. Best is trial 2 with value: 40.94624721327719.\n",
      "Trial 2 finished with value: 40.94624721327719 and parameters: {'layer_1': 'sigmoid', 'layer_2': 'sigmoid', 'layer_3': 'relu', 'outs_1': 64, 'outs_2': 32, 'outs_3': 32, 'learning_rate': 0.0005933879304671034, 'batch_size': 35}. Best is trial 2 with value: 40.94624721327719.\n",
      "Trial 2 finished with value: 40.94624721327719 and parameters: {'layer_1': 'sigmoid', 'layer_2': 'sigmoid', 'layer_3': 'relu', 'outs_1': 64, 'outs_2': 32, 'outs_3': 32, 'learning_rate': 0.0005933879304671034, 'batch_size': 35}. Best is trial 2 with value: 40.94624721327719.\n"
     ]
    },
    {
     "name": "stderr",
     "output_type": "stream",
     "text": [
      "\u001b[32m[I 2022-06-28 23:19:01,459]\u001b[0m Trial 3 finished with value: 0.0 and parameters: {'layer_1': 'tanh', 'layer_2': 'relu', 'layer_3': 'relu', 'outs_1': 16, 'outs_2': 128, 'outs_3': 64, 'learning_rate': 0.0033468260286227875, 'batch_size': 185}. Best is trial 2 with value: 40.94624721327719.\u001b[0m\n"
     ]
    },
    {
     "name": "stdout",
     "output_type": "stream",
     "text": [
      "Trial 3 finished with value: 0.0 and parameters: {'layer_1': 'tanh', 'layer_2': 'relu', 'layer_3': 'relu', 'outs_1': 16, 'outs_2': 128, 'outs_3': 64, 'learning_rate': 0.0033468260286227875, 'batch_size': 185}. Best is trial 2 with value: 40.94624721327719.\n",
      "Trial 3 finished with value: 0.0 and parameters: {'layer_1': 'tanh', 'layer_2': 'relu', 'layer_3': 'relu', 'outs_1': 16, 'outs_2': 128, 'outs_3': 64, 'learning_rate': 0.0033468260286227875, 'batch_size': 185}. Best is trial 2 with value: 40.94624721327719.\n",
      "Trial 3 finished with value: 0.0 and parameters: {'layer_1': 'tanh', 'layer_2': 'relu', 'layer_3': 'relu', 'outs_1': 16, 'outs_2': 128, 'outs_3': 64, 'learning_rate': 0.0033468260286227875, 'batch_size': 185}. Best is trial 2 with value: 40.94624721327719.\n",
      "Trial 3 finished with value: 0.0 and parameters: {'layer_1': 'tanh', 'layer_2': 'relu', 'layer_3': 'relu', 'outs_1': 16, 'outs_2': 128, 'outs_3': 64, 'learning_rate': 0.0033468260286227875, 'batch_size': 185}. Best is trial 2 with value: 40.94624721327719.\n",
      "Trial 3 finished with value: 0.0 and parameters: {'layer_1': 'tanh', 'layer_2': 'relu', 'layer_3': 'relu', 'outs_1': 16, 'outs_2': 128, 'outs_3': 64, 'learning_rate': 0.0033468260286227875, 'batch_size': 185}. Best is trial 2 with value: 40.94624721327719.\n",
      "Trial 3 finished with value: 0.0 and parameters: {'layer_1': 'tanh', 'layer_2': 'relu', 'layer_3': 'relu', 'outs_1': 16, 'outs_2': 128, 'outs_3': 64, 'learning_rate': 0.0033468260286227875, 'batch_size': 185}. Best is trial 2 with value: 40.94624721327719.\n",
      "Trial 3 finished with value: 0.0 and parameters: {'layer_1': 'tanh', 'layer_2': 'relu', 'layer_3': 'relu', 'outs_1': 16, 'outs_2': 128, 'outs_3': 64, 'learning_rate': 0.0033468260286227875, 'batch_size': 185}. Best is trial 2 with value: 40.94624721327719.\n",
      "Trial 3 finished with value: 0.0 and parameters: {'layer_1': 'tanh', 'layer_2': 'relu', 'layer_3': 'relu', 'outs_1': 16, 'outs_2': 128, 'outs_3': 64, 'learning_rate': 0.0033468260286227875, 'batch_size': 185}. Best is trial 2 with value: 40.94624721327719.\n"
     ]
    },
    {
     "name": "stderr",
     "output_type": "stream",
     "text": [
      "\u001b[32m[I 2022-06-28 23:19:30,042]\u001b[0m Trial 4 finished with value: 36.98290810007431 and parameters: {'layer_1': 'sigmoid', 'layer_2': 'tanh', 'layer_3': 'sigmoid', 'outs_1': 16, 'outs_2': 128, 'outs_3': 32, 'learning_rate': 1.7431707459496533e-05, 'batch_size': 34}. Best is trial 2 with value: 40.94624721327719.\u001b[0m\n"
     ]
    },
    {
     "name": "stdout",
     "output_type": "stream",
     "text": [
      "Trial 4 finished with value: 36.98290810007431 and parameters: {'layer_1': 'sigmoid', 'layer_2': 'tanh', 'layer_3': 'sigmoid', 'outs_1': 16, 'outs_2': 128, 'outs_3': 32, 'learning_rate': 1.7431707459496533e-05, 'batch_size': 34}. Best is trial 2 with value: 40.94624721327719.\n",
      "Trial 4 finished with value: 36.98290810007431 and parameters: {'layer_1': 'sigmoid', 'layer_2': 'tanh', 'layer_3': 'sigmoid', 'outs_1': 16, 'outs_2': 128, 'outs_3': 32, 'learning_rate': 1.7431707459496533e-05, 'batch_size': 34}. Best is trial 2 with value: 40.94624721327719.\n",
      "Trial 4 finished with value: 36.98290810007431 and parameters: {'layer_1': 'sigmoid', 'layer_2': 'tanh', 'layer_3': 'sigmoid', 'outs_1': 16, 'outs_2': 128, 'outs_3': 32, 'learning_rate': 1.7431707459496533e-05, 'batch_size': 34}. Best is trial 2 with value: 40.94624721327719.\n",
      "Trial 4 finished with value: 36.98290810007431 and parameters: {'layer_1': 'sigmoid', 'layer_2': 'tanh', 'layer_3': 'sigmoid', 'outs_1': 16, 'outs_2': 128, 'outs_3': 32, 'learning_rate': 1.7431707459496533e-05, 'batch_size': 34}. Best is trial 2 with value: 40.94624721327719.\n",
      "Trial 4 finished with value: 36.98290810007431 and parameters: {'layer_1': 'sigmoid', 'layer_2': 'tanh', 'layer_3': 'sigmoid', 'outs_1': 16, 'outs_2': 128, 'outs_3': 32, 'learning_rate': 1.7431707459496533e-05, 'batch_size': 34}. Best is trial 2 with value: 40.94624721327719.\n",
      "Trial 4 finished with value: 36.98290810007431 and parameters: {'layer_1': 'sigmoid', 'layer_2': 'tanh', 'layer_3': 'sigmoid', 'outs_1': 16, 'outs_2': 128, 'outs_3': 32, 'learning_rate': 1.7431707459496533e-05, 'batch_size': 34}. Best is trial 2 with value: 40.94624721327719.\n",
      "Trial 4 finished with value: 36.98290810007431 and parameters: {'layer_1': 'sigmoid', 'layer_2': 'tanh', 'layer_3': 'sigmoid', 'outs_1': 16, 'outs_2': 128, 'outs_3': 32, 'learning_rate': 1.7431707459496533e-05, 'batch_size': 34}. Best is trial 2 with value: 40.94624721327719.\n",
      "Trial 4 finished with value: 36.98290810007431 and parameters: {'layer_1': 'sigmoid', 'layer_2': 'tanh', 'layer_3': 'sigmoid', 'outs_1': 16, 'outs_2': 128, 'outs_3': 32, 'learning_rate': 1.7431707459496533e-05, 'batch_size': 34}. Best is trial 2 with value: 40.94624721327719.\n"
     ]
    },
    {
     "ename": "KeyboardInterrupt",
     "evalue": "",
     "output_type": "error",
     "traceback": [
      "\u001b[1;31m---------------------------------------------------------------------------\u001b[0m",
      "\u001b[1;31mKeyboardInterrupt\u001b[0m                         Traceback (most recent call last)",
      "\u001b[1;32md:\\dev\\automobile-racing-toolbox\\scripts\\behavioural_cloning\\optuna_test.ipynb Cell 13'\u001b[0m in \u001b[0;36m<cell line: 6>\u001b[1;34m()\u001b[0m\n\u001b[0;32m      <a href='vscode-notebook-cell:/d%3A/dev/automobile-racing-toolbox/scripts/behavioural_cloning/optuna_test.ipynb#ch0000012?line=2'>3</a>\u001b[0m optuna\u001b[39m.\u001b[39mlogging\u001b[39m.\u001b[39mget_logger(\u001b[39m\"\u001b[39m\u001b[39moptuna\u001b[39m\u001b[39m\"\u001b[39m)\u001b[39m.\u001b[39maddHandler(logging\u001b[39m.\u001b[39mStreamHandler(sys\u001b[39m.\u001b[39mstdout))\n\u001b[0;32m      <a href='vscode-notebook-cell:/d%3A/dev/automobile-racing-toolbox/scripts/behavioural_cloning/optuna_test.ipynb#ch0000012?line=4'>5</a>\u001b[0m study \u001b[39m=\u001b[39m optuna\u001b[39m.\u001b[39mcreate_study(direction\u001b[39m=\u001b[39m\u001b[39m\"\u001b[39m\u001b[39mmaximize\u001b[39m\u001b[39m\"\u001b[39m)\n\u001b[1;32m----> <a href='vscode-notebook-cell:/d%3A/dev/automobile-racing-toolbox/scripts/behavioural_cloning/optuna_test.ipynb#ch0000012?line=5'>6</a>\u001b[0m study\u001b[39m.\u001b[39;49moptimize(objective, n_trials\u001b[39m=\u001b[39;49m\u001b[39m50\u001b[39;49m)\n\u001b[0;32m      <a href='vscode-notebook-cell:/d%3A/dev/automobile-racing-toolbox/scripts/behavioural_cloning/optuna_test.ipynb#ch0000012?line=7'>8</a>\u001b[0m pruned_trials \u001b[39m=\u001b[39m [t \u001b[39mfor\u001b[39;00m t \u001b[39min\u001b[39;00m study\u001b[39m.\u001b[39mtrials \u001b[39mif\u001b[39;00m t\u001b[39m.\u001b[39mstate \u001b[39m==\u001b[39m optuna\u001b[39m.\u001b[39mstructs\u001b[39m.\u001b[39mTrialState\u001b[39m.\u001b[39mPRUNED]\n\u001b[0;32m      <a href='vscode-notebook-cell:/d%3A/dev/automobile-racing-toolbox/scripts/behavioural_cloning/optuna_test.ipynb#ch0000012?line=8'>9</a>\u001b[0m complete_trials \u001b[39m=\u001b[39m [t \u001b[39mfor\u001b[39;00m t \u001b[39min\u001b[39;00m study\u001b[39m.\u001b[39mtrials \u001b[39mif\u001b[39;00m t\u001b[39m.\u001b[39mstate \u001b[39m==\u001b[39m optuna\u001b[39m.\u001b[39mstructs\u001b[39m.\u001b[39mTrialState\u001b[39m.\u001b[39mCOMPLETE]\n",
      "File \u001b[1;32mC:\\ProgramData\\Anaconda3\\envs\\py310\\lib\\site-packages\\optuna\\study\\study.py:400\u001b[0m, in \u001b[0;36mStudy.optimize\u001b[1;34m(self, func, n_trials, timeout, n_jobs, catch, callbacks, gc_after_trial, show_progress_bar)\u001b[0m\n\u001b[0;32m    <a href='file:///c%3A/ProgramData/Anaconda3/envs/py310/lib/site-packages/optuna/study/study.py?line=391'>392</a>\u001b[0m \u001b[39mif\u001b[39;00m n_jobs \u001b[39m!=\u001b[39m \u001b[39m1\u001b[39m:\n\u001b[0;32m    <a href='file:///c%3A/ProgramData/Anaconda3/envs/py310/lib/site-packages/optuna/study/study.py?line=392'>393</a>\u001b[0m     warnings\u001b[39m.\u001b[39mwarn(\n\u001b[0;32m    <a href='file:///c%3A/ProgramData/Anaconda3/envs/py310/lib/site-packages/optuna/study/study.py?line=393'>394</a>\u001b[0m         \u001b[39m\"\u001b[39m\u001b[39m`n_jobs` argument has been deprecated in v2.7.0. \u001b[39m\u001b[39m\"\u001b[39m\n\u001b[0;32m    <a href='file:///c%3A/ProgramData/Anaconda3/envs/py310/lib/site-packages/optuna/study/study.py?line=394'>395</a>\u001b[0m         \u001b[39m\"\u001b[39m\u001b[39mThis feature will be removed in v4.0.0. \u001b[39m\u001b[39m\"\u001b[39m\n\u001b[0;32m    <a href='file:///c%3A/ProgramData/Anaconda3/envs/py310/lib/site-packages/optuna/study/study.py?line=395'>396</a>\u001b[0m         \u001b[39m\"\u001b[39m\u001b[39mSee https://github.com/optuna/optuna/releases/tag/v2.7.0.\u001b[39m\u001b[39m\"\u001b[39m,\n\u001b[0;32m    <a href='file:///c%3A/ProgramData/Anaconda3/envs/py310/lib/site-packages/optuna/study/study.py?line=396'>397</a>\u001b[0m         \u001b[39mFutureWarning\u001b[39;00m,\n\u001b[0;32m    <a href='file:///c%3A/ProgramData/Anaconda3/envs/py310/lib/site-packages/optuna/study/study.py?line=397'>398</a>\u001b[0m     )\n\u001b[1;32m--> <a href='file:///c%3A/ProgramData/Anaconda3/envs/py310/lib/site-packages/optuna/study/study.py?line=399'>400</a>\u001b[0m _optimize(\n\u001b[0;32m    <a href='file:///c%3A/ProgramData/Anaconda3/envs/py310/lib/site-packages/optuna/study/study.py?line=400'>401</a>\u001b[0m     study\u001b[39m=\u001b[39;49m\u001b[39mself\u001b[39;49m,\n\u001b[0;32m    <a href='file:///c%3A/ProgramData/Anaconda3/envs/py310/lib/site-packages/optuna/study/study.py?line=401'>402</a>\u001b[0m     func\u001b[39m=\u001b[39;49mfunc,\n\u001b[0;32m    <a href='file:///c%3A/ProgramData/Anaconda3/envs/py310/lib/site-packages/optuna/study/study.py?line=402'>403</a>\u001b[0m     n_trials\u001b[39m=\u001b[39;49mn_trials,\n\u001b[0;32m    <a href='file:///c%3A/ProgramData/Anaconda3/envs/py310/lib/site-packages/optuna/study/study.py?line=403'>404</a>\u001b[0m     timeout\u001b[39m=\u001b[39;49mtimeout,\n\u001b[0;32m    <a href='file:///c%3A/ProgramData/Anaconda3/envs/py310/lib/site-packages/optuna/study/study.py?line=404'>405</a>\u001b[0m     n_jobs\u001b[39m=\u001b[39;49mn_jobs,\n\u001b[0;32m    <a href='file:///c%3A/ProgramData/Anaconda3/envs/py310/lib/site-packages/optuna/study/study.py?line=405'>406</a>\u001b[0m     catch\u001b[39m=\u001b[39;49mcatch,\n\u001b[0;32m    <a href='file:///c%3A/ProgramData/Anaconda3/envs/py310/lib/site-packages/optuna/study/study.py?line=406'>407</a>\u001b[0m     callbacks\u001b[39m=\u001b[39;49mcallbacks,\n\u001b[0;32m    <a href='file:///c%3A/ProgramData/Anaconda3/envs/py310/lib/site-packages/optuna/study/study.py?line=407'>408</a>\u001b[0m     gc_after_trial\u001b[39m=\u001b[39;49mgc_after_trial,\n\u001b[0;32m    <a href='file:///c%3A/ProgramData/Anaconda3/envs/py310/lib/site-packages/optuna/study/study.py?line=408'>409</a>\u001b[0m     show_progress_bar\u001b[39m=\u001b[39;49mshow_progress_bar,\n\u001b[0;32m    <a href='file:///c%3A/ProgramData/Anaconda3/envs/py310/lib/site-packages/optuna/study/study.py?line=409'>410</a>\u001b[0m )\n",
      "File \u001b[1;32mC:\\ProgramData\\Anaconda3\\envs\\py310\\lib\\site-packages\\optuna\\study\\_optimize.py:66\u001b[0m, in \u001b[0;36m_optimize\u001b[1;34m(study, func, n_trials, timeout, n_jobs, catch, callbacks, gc_after_trial, show_progress_bar)\u001b[0m\n\u001b[0;32m     <a href='file:///c%3A/ProgramData/Anaconda3/envs/py310/lib/site-packages/optuna/study/_optimize.py?line=63'>64</a>\u001b[0m \u001b[39mtry\u001b[39;00m:\n\u001b[0;32m     <a href='file:///c%3A/ProgramData/Anaconda3/envs/py310/lib/site-packages/optuna/study/_optimize.py?line=64'>65</a>\u001b[0m     \u001b[39mif\u001b[39;00m n_jobs \u001b[39m==\u001b[39m \u001b[39m1\u001b[39m:\n\u001b[1;32m---> <a href='file:///c%3A/ProgramData/Anaconda3/envs/py310/lib/site-packages/optuna/study/_optimize.py?line=65'>66</a>\u001b[0m         _optimize_sequential(\n\u001b[0;32m     <a href='file:///c%3A/ProgramData/Anaconda3/envs/py310/lib/site-packages/optuna/study/_optimize.py?line=66'>67</a>\u001b[0m             study,\n\u001b[0;32m     <a href='file:///c%3A/ProgramData/Anaconda3/envs/py310/lib/site-packages/optuna/study/_optimize.py?line=67'>68</a>\u001b[0m             func,\n\u001b[0;32m     <a href='file:///c%3A/ProgramData/Anaconda3/envs/py310/lib/site-packages/optuna/study/_optimize.py?line=68'>69</a>\u001b[0m             n_trials,\n\u001b[0;32m     <a href='file:///c%3A/ProgramData/Anaconda3/envs/py310/lib/site-packages/optuna/study/_optimize.py?line=69'>70</a>\u001b[0m             timeout,\n\u001b[0;32m     <a href='file:///c%3A/ProgramData/Anaconda3/envs/py310/lib/site-packages/optuna/study/_optimize.py?line=70'>71</a>\u001b[0m             catch,\n\u001b[0;32m     <a href='file:///c%3A/ProgramData/Anaconda3/envs/py310/lib/site-packages/optuna/study/_optimize.py?line=71'>72</a>\u001b[0m             callbacks,\n\u001b[0;32m     <a href='file:///c%3A/ProgramData/Anaconda3/envs/py310/lib/site-packages/optuna/study/_optimize.py?line=72'>73</a>\u001b[0m             gc_after_trial,\n\u001b[0;32m     <a href='file:///c%3A/ProgramData/Anaconda3/envs/py310/lib/site-packages/optuna/study/_optimize.py?line=73'>74</a>\u001b[0m             reseed_sampler_rng\u001b[39m=\u001b[39;49m\u001b[39mFalse\u001b[39;49;00m,\n\u001b[0;32m     <a href='file:///c%3A/ProgramData/Anaconda3/envs/py310/lib/site-packages/optuna/study/_optimize.py?line=74'>75</a>\u001b[0m             time_start\u001b[39m=\u001b[39;49m\u001b[39mNone\u001b[39;49;00m,\n\u001b[0;32m     <a href='file:///c%3A/ProgramData/Anaconda3/envs/py310/lib/site-packages/optuna/study/_optimize.py?line=75'>76</a>\u001b[0m             progress_bar\u001b[39m=\u001b[39;49mprogress_bar,\n\u001b[0;32m     <a href='file:///c%3A/ProgramData/Anaconda3/envs/py310/lib/site-packages/optuna/study/_optimize.py?line=76'>77</a>\u001b[0m         )\n\u001b[0;32m     <a href='file:///c%3A/ProgramData/Anaconda3/envs/py310/lib/site-packages/optuna/study/_optimize.py?line=77'>78</a>\u001b[0m     \u001b[39melse\u001b[39;00m:\n\u001b[0;32m     <a href='file:///c%3A/ProgramData/Anaconda3/envs/py310/lib/site-packages/optuna/study/_optimize.py?line=78'>79</a>\u001b[0m         \u001b[39mif\u001b[39;00m show_progress_bar:\n",
      "File \u001b[1;32mC:\\ProgramData\\Anaconda3\\envs\\py310\\lib\\site-packages\\optuna\\study\\_optimize.py:163\u001b[0m, in \u001b[0;36m_optimize_sequential\u001b[1;34m(study, func, n_trials, timeout, catch, callbacks, gc_after_trial, reseed_sampler_rng, time_start, progress_bar)\u001b[0m\n\u001b[0;32m    <a href='file:///c%3A/ProgramData/Anaconda3/envs/py310/lib/site-packages/optuna/study/_optimize.py?line=159'>160</a>\u001b[0m         \u001b[39mbreak\u001b[39;00m\n\u001b[0;32m    <a href='file:///c%3A/ProgramData/Anaconda3/envs/py310/lib/site-packages/optuna/study/_optimize.py?line=161'>162</a>\u001b[0m \u001b[39mtry\u001b[39;00m:\n\u001b[1;32m--> <a href='file:///c%3A/ProgramData/Anaconda3/envs/py310/lib/site-packages/optuna/study/_optimize.py?line=162'>163</a>\u001b[0m     trial \u001b[39m=\u001b[39m _run_trial(study, func, catch)\n\u001b[0;32m    <a href='file:///c%3A/ProgramData/Anaconda3/envs/py310/lib/site-packages/optuna/study/_optimize.py?line=163'>164</a>\u001b[0m \u001b[39mexcept\u001b[39;00m \u001b[39mException\u001b[39;00m:\n\u001b[0;32m    <a href='file:///c%3A/ProgramData/Anaconda3/envs/py310/lib/site-packages/optuna/study/_optimize.py?line=164'>165</a>\u001b[0m     \u001b[39mraise\u001b[39;00m\n",
      "File \u001b[1;32mC:\\ProgramData\\Anaconda3\\envs\\py310\\lib\\site-packages\\optuna\\study\\_optimize.py:213\u001b[0m, in \u001b[0;36m_run_trial\u001b[1;34m(study, func, catch)\u001b[0m\n\u001b[0;32m    <a href='file:///c%3A/ProgramData/Anaconda3/envs/py310/lib/site-packages/optuna/study/_optimize.py?line=209'>210</a>\u001b[0m     thread\u001b[39m.\u001b[39mstart()\n\u001b[0;32m    <a href='file:///c%3A/ProgramData/Anaconda3/envs/py310/lib/site-packages/optuna/study/_optimize.py?line=211'>212</a>\u001b[0m \u001b[39mtry\u001b[39;00m:\n\u001b[1;32m--> <a href='file:///c%3A/ProgramData/Anaconda3/envs/py310/lib/site-packages/optuna/study/_optimize.py?line=212'>213</a>\u001b[0m     value_or_values \u001b[39m=\u001b[39m func(trial)\n\u001b[0;32m    <a href='file:///c%3A/ProgramData/Anaconda3/envs/py310/lib/site-packages/optuna/study/_optimize.py?line=213'>214</a>\u001b[0m \u001b[39mexcept\u001b[39;00m exceptions\u001b[39m.\u001b[39mTrialPruned \u001b[39mas\u001b[39;00m e:\n\u001b[0;32m    <a href='file:///c%3A/ProgramData/Anaconda3/envs/py310/lib/site-packages/optuna/study/_optimize.py?line=214'>215</a>\u001b[0m     \u001b[39m# TODO(mamu): Handle multi-objective cases.\u001b[39;00m\n\u001b[0;32m    <a href='file:///c%3A/ProgramData/Anaconda3/envs/py310/lib/site-packages/optuna/study/_optimize.py?line=215'>216</a>\u001b[0m     state \u001b[39m=\u001b[39m TrialState\u001b[39m.\u001b[39mPRUNED\n",
      "\u001b[1;32md:\\dev\\automobile-racing-toolbox\\scripts\\behavioural_cloning\\optuna_test.ipynb Cell 11'\u001b[0m in \u001b[0;36mobjective\u001b[1;34m(trial)\u001b[0m\n\u001b[0;32m     <a href='vscode-notebook-cell:/d%3A/dev/automobile-racing-toolbox/scripts/behavioural_cloning/optuna_test.ipynb#ch0000010?line=40'>41</a>\u001b[0m \u001b[39mglobal\u001b[39;00m global_best\n\u001b[0;32m     <a href='vscode-notebook-cell:/d%3A/dev/automobile-racing-toolbox/scripts/behavioural_cloning/optuna_test.ipynb#ch0000010?line=42'>43</a>\u001b[0m \u001b[39mfor\u001b[39;00m epoch \u001b[39min\u001b[39;00m \u001b[39mrange\u001b[39m(epochs):\n\u001b[1;32m---> <a href='vscode-notebook-cell:/d%3A/dev/automobile-racing-toolbox/scripts/behavioural_cloning/optuna_test.ipynb#ch0000010?line=43'>44</a>\u001b[0m     train_loss \u001b[39m=\u001b[39m train(train_dataloader, model, loss_fn, optimizer)\n\u001b[0;32m     <a href='vscode-notebook-cell:/d%3A/dev/automobile-racing-toolbox/scripts/behavioural_cloning/optuna_test.ipynb#ch0000010?line=44'>45</a>\u001b[0m     acc, test_loss \u001b[39m=\u001b[39m test(test_dataloader, model, loss_fn)\n\u001b[0;32m     <a href='vscode-notebook-cell:/d%3A/dev/automobile-racing-toolbox/scripts/behavioural_cloning/optuna_test.ipynb#ch0000010?line=46'>47</a>\u001b[0m     train_losses\u001b[39m.\u001b[39mappend(train_loss)\n",
      "\u001b[1;32md:\\dev\\automobile-racing-toolbox\\scripts\\behavioural_cloning\\optuna_test.ipynb Cell 9'\u001b[0m in \u001b[0;36mtrain\u001b[1;34m(dataloader, model, loss_fn, optimizer)\u001b[0m\n\u001b[0;32m      <a href='vscode-notebook-cell:/d%3A/dev/automobile-racing-toolbox/scripts/behavioural_cloning/optuna_test.ipynb#ch0000008?line=7'>8</a>\u001b[0m loss \u001b[39m=\u001b[39m loss_fn(pred, y)\n\u001b[0;32m     <a href='vscode-notebook-cell:/d%3A/dev/automobile-racing-toolbox/scripts/behavioural_cloning/optuna_test.ipynb#ch0000008?line=9'>10</a>\u001b[0m optimizer\u001b[39m.\u001b[39mzero_grad()\n\u001b[1;32m---> <a href='vscode-notebook-cell:/d%3A/dev/automobile-racing-toolbox/scripts/behavioural_cloning/optuna_test.ipynb#ch0000008?line=10'>11</a>\u001b[0m loss\u001b[39m.\u001b[39;49mbackward()\n\u001b[0;32m     <a href='vscode-notebook-cell:/d%3A/dev/automobile-racing-toolbox/scripts/behavioural_cloning/optuna_test.ipynb#ch0000008?line=11'>12</a>\u001b[0m optimizer\u001b[39m.\u001b[39mstep()\n\u001b[0;32m     <a href='vscode-notebook-cell:/d%3A/dev/automobile-racing-toolbox/scripts/behavioural_cloning/optuna_test.ipynb#ch0000008?line=13'>14</a>\u001b[0m train_loss \u001b[39m+\u001b[39m\u001b[39m=\u001b[39m loss\u001b[39m.\u001b[39mitem()\n",
      "File \u001b[1;32mC:\\ProgramData\\Anaconda3\\envs\\py310\\lib\\site-packages\\torch\\_tensor.py:363\u001b[0m, in \u001b[0;36mTensor.backward\u001b[1;34m(self, gradient, retain_graph, create_graph, inputs)\u001b[0m\n\u001b[0;32m    <a href='file:///c%3A/ProgramData/Anaconda3/envs/py310/lib/site-packages/torch/_tensor.py?line=353'>354</a>\u001b[0m \u001b[39mif\u001b[39;00m has_torch_function_unary(\u001b[39mself\u001b[39m):\n\u001b[0;32m    <a href='file:///c%3A/ProgramData/Anaconda3/envs/py310/lib/site-packages/torch/_tensor.py?line=354'>355</a>\u001b[0m     \u001b[39mreturn\u001b[39;00m handle_torch_function(\n\u001b[0;32m    <a href='file:///c%3A/ProgramData/Anaconda3/envs/py310/lib/site-packages/torch/_tensor.py?line=355'>356</a>\u001b[0m         Tensor\u001b[39m.\u001b[39mbackward,\n\u001b[0;32m    <a href='file:///c%3A/ProgramData/Anaconda3/envs/py310/lib/site-packages/torch/_tensor.py?line=356'>357</a>\u001b[0m         (\u001b[39mself\u001b[39m,),\n\u001b[1;32m   (...)\u001b[0m\n\u001b[0;32m    <a href='file:///c%3A/ProgramData/Anaconda3/envs/py310/lib/site-packages/torch/_tensor.py?line=360'>361</a>\u001b[0m         create_graph\u001b[39m=\u001b[39mcreate_graph,\n\u001b[0;32m    <a href='file:///c%3A/ProgramData/Anaconda3/envs/py310/lib/site-packages/torch/_tensor.py?line=361'>362</a>\u001b[0m         inputs\u001b[39m=\u001b[39minputs)\n\u001b[1;32m--> <a href='file:///c%3A/ProgramData/Anaconda3/envs/py310/lib/site-packages/torch/_tensor.py?line=362'>363</a>\u001b[0m torch\u001b[39m.\u001b[39;49mautograd\u001b[39m.\u001b[39;49mbackward(\u001b[39mself\u001b[39;49m, gradient, retain_graph, create_graph, inputs\u001b[39m=\u001b[39;49minputs)\n",
      "File \u001b[1;32mC:\\ProgramData\\Anaconda3\\envs\\py310\\lib\\site-packages\\torch\\autograd\\__init__.py:173\u001b[0m, in \u001b[0;36mbackward\u001b[1;34m(tensors, grad_tensors, retain_graph, create_graph, grad_variables, inputs)\u001b[0m\n\u001b[0;32m    <a href='file:///c%3A/ProgramData/Anaconda3/envs/py310/lib/site-packages/torch/autograd/__init__.py?line=167'>168</a>\u001b[0m     retain_graph \u001b[39m=\u001b[39m create_graph\n\u001b[0;32m    <a href='file:///c%3A/ProgramData/Anaconda3/envs/py310/lib/site-packages/torch/autograd/__init__.py?line=169'>170</a>\u001b[0m \u001b[39m# The reason we repeat same the comment below is that\u001b[39;00m\n\u001b[0;32m    <a href='file:///c%3A/ProgramData/Anaconda3/envs/py310/lib/site-packages/torch/autograd/__init__.py?line=170'>171</a>\u001b[0m \u001b[39m# some Python versions print out the first line of a multi-line function\u001b[39;00m\n\u001b[0;32m    <a href='file:///c%3A/ProgramData/Anaconda3/envs/py310/lib/site-packages/torch/autograd/__init__.py?line=171'>172</a>\u001b[0m \u001b[39m# calls in the traceback and some print out the last line\u001b[39;00m\n\u001b[1;32m--> <a href='file:///c%3A/ProgramData/Anaconda3/envs/py310/lib/site-packages/torch/autograd/__init__.py?line=172'>173</a>\u001b[0m Variable\u001b[39m.\u001b[39;49m_execution_engine\u001b[39m.\u001b[39;49mrun_backward(  \u001b[39m# Calls into the C++ engine to run the backward pass\u001b[39;49;00m\n\u001b[0;32m    <a href='file:///c%3A/ProgramData/Anaconda3/envs/py310/lib/site-packages/torch/autograd/__init__.py?line=173'>174</a>\u001b[0m     tensors, grad_tensors_, retain_graph, create_graph, inputs,\n\u001b[0;32m    <a href='file:///c%3A/ProgramData/Anaconda3/envs/py310/lib/site-packages/torch/autograd/__init__.py?line=174'>175</a>\u001b[0m     allow_unreachable\u001b[39m=\u001b[39;49m\u001b[39mTrue\u001b[39;49;00m, accumulate_grad\u001b[39m=\u001b[39;49m\u001b[39mTrue\u001b[39;49;00m)\n",
      "\u001b[1;31mKeyboardInterrupt\u001b[0m: "
     ]
    },
    {
     "data": {
      "image/png": "[encoded data removed]",
      "text/plain": [
       "<Figure size 1080x504 with 2 Axes>"
      ]
     },
     "metadata": {
      "needs_background": "light"
     },
     "output_type": "display_data"
    },
    {
     "data": {
      "image/png": "[encoded data removed]",
      "text/plain": [
       "<Figure size 1080x504 with 2 Axes>"
      ]
     },
     "metadata": {
      "needs_background": "light"
     },
     "output_type": "display_data"
    },
    {
     "data": {
      "image/png": "[encoded data removed]",
      "text/plain": [
       "<Figure size 1080x504 with 2 Axes>"
      ]
     },
     "metadata": {
      "needs_background": "light"
     },
     "output_type": "display_data"
    },
    {
     "data": {
      "image/png": "[encoded data removed]",
      "text/plain": [
       "<Figure size 1080x504 with 2 Axes>"
      ]
     },
     "metadata": {
      "needs_background": "light"
     },
     "output_type": "display_data"
    },
    {
     "data": {
      "image/png": "[encoded data removed]",
      "text/plain": [
       "<Figure size 1080x504 with 2 Axes>"
      ]
     },
     "metadata": {
      "needs_background": "light"
     },
     "output_type": "display_data"
    }
   ],
   "source": [
    "global_best = 0\n",
    "\n",
    "optuna.logging.get_logger(\"optuna\").addHandler(logging.StreamHandler(sys.stdout))\n",
    "\n",
    "study = optuna.create_study(direction=\"maximize\")\n",
    "study.optimize(objective, n_trials=100)\n",
    "\n",
    "pruned_trials = [t for t in study.trials if t.state == optuna.structs.TrialState.PRUNED]\n",
    "complete_trials = [t for t in study.trials if t.state == optuna.structs.TrialState.COMPLETE]\n",
    "\n",
    "print(\"Study statistics: \")\n",
    "print(\"  Number of finished trials: \", len(study.trials))\n",
    "print(\"  Number of pruned trials: \", len(pruned_trials))\n",
    "print(\"  Number of complete trials: \", len(complete_trials))\n",
    "\n",
    "trial = study.best_trial\n",
    "\n",
    "print(\"Best trial:\")\n",
    "print(\"  Value: \", trial.value)\n",
    "\n",
    "print(\"  Params: \")\n",
    "for key, value in trial.params.items():\n",
    "    print(\"    {}: {}\".format(key, value))"
   ]
  }
 ],
 "metadata": {
  "interpreter": {
   "hash": "0bc10dd72c8aaf2d861c41511aea097bfd1dfda640e26e44598e27f4cfd3593d"
  },
  "kernelspec": {
   "display_name": "Python 3.10.4 ('py310')",
   "language": "python",
   "name": "python3"
  },
  "language_info": {
   "codemirror_mode": {
    "name": "ipython",
    "version": 3
   },
   "file_extension": ".py",
   "mimetype": "text/x-python",
   "name": "python",
   "nbconvert_exporter": "python",
   "pygments_lexer": "ipython3",
   "version": "3.10.4"
  },
  "orig_nbformat": 4
 },
 "nbformat": 4,
 "nbformat_minor": 2
}
