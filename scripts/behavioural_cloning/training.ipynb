{
 "cells": [
  {
   "cell_type": "code",
   "execution_count": 1,
   "metadata": {},
   "outputs": [
    {
     "name": "stdout",
     "output_type": "stream",
     "text": [
      "[WinError 3] System nie może odnaleźć określonej ścieżki: 'scripts/behavioural_cloning'\n",
      "c:\\Users\\czyjt\\Projects\\engineering-thesis\\automobile-racing-toolbox\\scripts\\behavioural_cloning\n"
     ]
    }
   ],
   "source": [
    "cd scripts/behavioural_cloning"
   ]
  },
  {
   "cell_type": "code",
   "execution_count": 2,
   "metadata": {},
   "outputs": [
    {
     "name": "stderr",
     "output_type": "stream",
     "text": [
      "c:\\Users\\czyjt\\Projects\\engineering-thesis\\automobile-racing-toolbox\\venv\\lib\\site-packages\\tqdm\\auto.py:22: TqdmWarning: IProgress not found. Please update jupyter and ipywidgets. See https://ipywidgets.readthedocs.io/en/stable/user_install.html\n",
      "  from .autonotebook import tqdm as notebook_tqdm\n"
     ]
    },
    {
     "data": {
      "text/plain": [
       "device(type='cuda')"
      ]
     },
     "execution_count": 2,
     "metadata": {},
     "output_type": "execute_result"
    }
   ],
   "source": [
    "from models import MultiLabelnNN, device\n",
    "from training import fit, TrainingParams, ExpertDataset\n",
    "from pathlib import Path \n",
    "from torch.utils.data import random_split, DataLoader\n",
    "device"
   ]
  },
  {
   "cell_type": "markdown",
   "metadata": {},
   "source": [
    "### Load and split dataset"
   ]
  },
  {
   "cell_type": "code",
   "execution_count": 3,
   "metadata": {},
   "outputs": [],
   "source": [
    "dataset = ExpertDataset(Path(\"C:\\\\Users\\czyjt\\Projects\\engineering-thesis\\\\automobile-racing-toolbox\\data\\\\tmnf_1os.hdf5\"))\n",
    "train_size = int(0.8 * len(dataset))\n",
    "test_size = len(dataset) - train_size\n",
    "dataset_train, dataset_val = random_split(dataset, [train_size, test_size])"
   ]
  },
  {
   "cell_type": "markdown",
   "metadata": {},
   "source": [
    "### setup data loaders and model"
   ]
  },
  {
   "cell_type": "code",
   "execution_count": 4,
   "metadata": {},
   "outputs": [],
   "source": [
    "train_dl = DataLoader(dataset_train, 64, shuffle=True, num_workers=1, pin_memory=True)\n",
    "val_dl = DataLoader(dataset_val, 64, num_workers=1, shuffle=False, pin_memory=True)\n",
    "\n",
    "model = MultiLabelnNN(4, 4, 53, 150).float().to(device)\n"
   ]
  },
  {
   "cell_type": "code",
   "execution_count": 6,
   "metadata": {},
   "outputs": [
    {
     "name": "stdout",
     "output_type": "stream",
     "text": [
      "MultiLabelnNN(\n",
      "  (feature_extractor): Sequential(\n",
      "    (0): Conv2d(4, 32, kernel_size=(8, 8), stride=(4, 4))\n",
      "    (1): ReLU()\n",
      "    (2): Conv2d(32, 64, kernel_size=(4, 4), stride=(2, 2))\n",
      "    (3): ReLU()\n",
      "    (4): Conv2d(64, 64, kernel_size=(3, 3), stride=(1, 1))\n",
      "    (5): ReLU()\n",
      "    (6): Flatten(start_dim=1, end_dim=-1)\n",
      "  )\n",
      "  (classifier): Sequential(\n",
      "    (0): Linear(in_features=2880, out_features=4, bias=True)\n",
      "    (1): Sigmoid()\n",
      "  )\n",
      ")\n"
     ]
    }
   ],
   "source": [
    "print(model)"
   ]
  },
  {
   "cell_type": "markdown",
   "metadata": {},
   "source": [
    "### Train"
   ]
  },
  {
   "cell_type": "code",
   "execution_count": 5,
   "metadata": {},
   "outputs": [
    {
     "name": "stderr",
     "output_type": "stream",
     "text": [
      "  0%|          | 0/1000 [00:00<?, ?it/s]c:\\Users\\czyjt\\Projects\\engineering-thesis\\automobile-racing-toolbox\\scripts\\behavioural_cloning\\models.py:60: UserWarning: To copy construct from a tensor, it is recommended to use sourceTensor.clone().detach() or sourceTensor.clone().detach().requires_grad_(True), rather than torch.tensor(sourceTensor).\n",
      "  x = th.tensor(x, dtype=th.float32).to(device)\n",
      "  0%|          | 0/1000 [00:24<?, ?it/s]\n"
     ]
    },
    {
     "ename": "RuntimeError",
     "evalue": "Expected all tensors to be on the same device, but found at least two devices, cuda:0 and cpu!",
     "output_type": "error",
     "traceback": [
      "\u001b[1;31m---------------------------------------------------------------------------\u001b[0m",
      "\u001b[1;31mRuntimeError\u001b[0m                              Traceback (most recent call last)",
      "\u001b[1;32mc:\\Users\\czyjt\\Projects\\engineering-thesis\\automobile-racing-toolbox\\scripts\\behavioural_cloning\\training.ipynb Cell 8'\u001b[0m in \u001b[0;36m<cell line: 2>\u001b[1;34m()\u001b[0m\n\u001b[0;32m      <a href='vscode-notebook-cell:/c%3A/Users/czyjt/Projects/engineering-thesis/automobile-racing-toolbox/scripts/behavioural_cloning/training.ipynb#ch0000007?line=0'>1</a>\u001b[0m model\u001b[39m.\u001b[39mtrain()\n\u001b[1;32m----> <a href='vscode-notebook-cell:/c%3A/Users/czyjt/Projects/engineering-thesis/automobile-racing-toolbox/scripts/behavioural_cloning/training.ipynb#ch0000007?line=1'>2</a>\u001b[0m fit(\u001b[39m1_000\u001b[39;49m, \u001b[39m0.01\u001b[39;49m, model, train_dl, val_dl)\n",
      "File \u001b[1;32mc:\\Users\\czyjt\\Projects\\engineering-thesis\\automobile-racing-toolbox\\scripts\\behavioural_cloning\\training.py:87\u001b[0m, in \u001b[0;36mfit\u001b[1;34m(epochs, lr, model, train_loader, val_loader, opt_func, checkpoint_step, checkpoint_dir)\u001b[0m\n\u001b[0;32m     85\u001b[0m train_losses \u001b[39m=\u001b[39m []\n\u001b[0;32m     86\u001b[0m \u001b[39mfor\u001b[39;00m batch \u001b[39min\u001b[39;00m train_loader:\n\u001b[1;32m---> 87\u001b[0m     loss \u001b[39m=\u001b[39m training_step(model, batch, loss_fn)\n\u001b[0;32m     88\u001b[0m     train_losses\u001b[39m.\u001b[39mappend(loss)\n\u001b[0;32m     90\u001b[0m     loss\u001b[39m.\u001b[39mbackward()\n",
      "File \u001b[1;32mc:\\Users\\czyjt\\Projects\\engineering-thesis\\automobile-racing-toolbox\\scripts\\behavioural_cloning\\training.py:115\u001b[0m, in \u001b[0;36mtraining_step\u001b[1;34m(model, batch, loss_fn)\u001b[0m\n\u001b[0;32m    113\u001b[0m images, labels \u001b[39m=\u001b[39m batch\n\u001b[0;32m    114\u001b[0m out \u001b[39m=\u001b[39m model(images)\n\u001b[1;32m--> 115\u001b[0m loss \u001b[39m=\u001b[39m loss_fn(out, labels)\n\u001b[0;32m    116\u001b[0m \u001b[39mreturn\u001b[39;00m loss\n",
      "File \u001b[1;32mc:\\Users\\czyjt\\Projects\\engineering-thesis\\automobile-racing-toolbox\\venv\\lib\\site-packages\\torch\\nn\\functional.py:3065\u001b[0m, in \u001b[0;36mbinary_cross_entropy\u001b[1;34m(input, target, weight, size_average, reduce, reduction)\u001b[0m\n\u001b[0;32m   3062\u001b[0m     new_size \u001b[39m=\u001b[39m _infer_size(target\u001b[39m.\u001b[39msize(), weight\u001b[39m.\u001b[39msize())\n\u001b[0;32m   3063\u001b[0m     weight \u001b[39m=\u001b[39m weight\u001b[39m.\u001b[39mexpand(new_size)\n\u001b[1;32m-> 3065\u001b[0m \u001b[39mreturn\u001b[39;00m torch\u001b[39m.\u001b[39;49m_C\u001b[39m.\u001b[39;49m_nn\u001b[39m.\u001b[39;49mbinary_cross_entropy(\u001b[39minput\u001b[39;49m, target, weight, reduction_enum)\n",
      "\u001b[1;31mRuntimeError\u001b[0m: Expected all tensors to be on the same device, but found at least two devices, cuda:0 and cpu!"
     ]
    }
   ],
   "source": [
    "model.train()\n",
    "fit(1_000, 0.01, model, train_dl, val_dl)"
   ]
  },
  {
   "cell_type": "code",
   "execution_count": null,
   "metadata": {},
   "outputs": [],
   "source": []
  },
  {
   "cell_type": "code",
   "execution_count": null,
   "metadata": {},
   "outputs": [],
   "source": []
  }
 ],
 "metadata": {
  "kernelspec": {
   "display_name": "Python 3.9.11 ('venv': venv)",
   "language": "python",
   "name": "python3"
  },
  "language_info": {
   "codemirror_mode": {
    "name": "ipython",
    "version": 3
   },
   "file_extension": ".py",
   "mimetype": "text/x-python",
   "name": "python",
   "nbconvert_exporter": "python",
   "pygments_lexer": "ipython3",
   "version": "3.9.11"
  },
  "orig_nbformat": 4,
  "vscode": {
   "interpreter": {
    "hash": "6082ab2b533eca74db7adbc15f5639b525403fc7dce4ad62ac9bac091b4db0a1"
   }
  }
 },
 "nbformat": 4,
 "nbformat_minor": 2
}
