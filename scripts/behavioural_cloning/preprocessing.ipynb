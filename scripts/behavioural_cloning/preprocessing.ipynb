{
 "cells": [
  {
   "cell_type": "code",
   "execution_count": 1,
   "metadata": {},
   "outputs": [
    {
     "name": "stdout",
     "output_type": "stream",
     "text": [
      "[WinError 3] System nie może odnaleźć określonej ścieżki: 'scripts/behavioural_cloning'\n",
      "c:\\Users\\czyjt\\Projects\\engineering-thesis\\automobile-racing-toolbox\\scripts\\behavioural_cloning\n"
     ]
    }
   ],
   "source": [
    "cd scripts/behavioural_cloning"
   ]
  },
  {
   "cell_type": "code",
   "execution_count": 3,
   "metadata": {},
   "outputs": [],
   "source": [
    "from preprocessing import get_episode, process_episode\n",
    "import pandas as pd\n",
    "import numpy as np\n",
    "from PIL import Image\n",
    "from pathlib import Path\n",
    "import os\n",
    "import matplotlib.pyplot as plt \n",
    "import cv2"
   ]
  },
  {
   "cell_type": "markdown",
   "metadata": {},
   "source": [
    "# REad preprocessed data"
   ]
  },
  {
   "cell_type": "code",
   "execution_count": 4,
   "metadata": {},
   "outputs": [],
   "source": [
    "import tables "
   ]
  },
  {
   "cell_type": "code",
   "execution_count": 7,
   "metadata": {},
   "outputs": [],
   "source": [
    "hdf5_path = \"C:\\\\Users\\czyjt\\Projects\\engineering-thesis\\\\automobile-racing-toolbox\\compressed_dataset.hdf5\"\n",
    "extendable_hdf5_file = tables.open_file(hdf5_path, mode='r')\n",
    "images_hdf5 = extendable_hdf5_file.root.images[:]\n",
    "actions_hdf5 = extendable_hdf5_file.root.actions[:]"
   ]
  },
  {
   "cell_type": "code",
   "execution_count": 37,
   "metadata": {},
   "outputs": [],
   "source": [
    "extendable_hdf5_file.close() "
   ]
  },
  {
   "cell_type": "code",
   "execution_count": 36,
   "metadata": {},
   "outputs": [],
   "source": [
    "import torch as th\n",
    "from torch import nn\n",
    "import torch.nn.functional as F\n",
    "device = th.device(\"cuda\" if th.cuda.is_available() else \"cpu\")"
   ]
  },
  {
   "cell_type": "code",
   "execution_count": null,
   "metadata": {},
   "outputs": [],
   "source": [
    "class MultiLabelnNN(nn.Module):\n",
    "    def __init__(self, n_channels, n_outputs, w, h):\n",
    "        self.feature_extractor =  nn.Sequential(\n",
    "            nn.Conv2d(n_channels, 32, kernel_size=8, stride=4, padding=0),\n",
    "            nn.ReLU(),\n",
    "            nn.Conv2d(32, 64, kernel_size=4, stride=2, padding=0),\n",
    "            nn.ReLU(),\n",
    "            nn.Conv2d(64, 64, kernel_size=3, stride=1, padding=0),\n",
    "            nn.ReLU(),\n",
    "            nn.Flatten()\n",
    "        )\n",
    "\n",
    "        def conv2d_size_out(size, kernel_size, stride):\n",
    "            return (size - (kernel_size - 1) - 1) // stride  + 1\n",
    "\n",
    "        convw = conv2d_size_out(conv2d_size_out(conv2d_size_out(w, 3, 1)))\n",
    "        convh = conv2d_size_out(conv2d_size_out(conv2d_size_out(h, 3, 1)))\n",
    "        linear_input_size = convw * convh * 64\n",
    "\n",
    "        self.classifier = nn.Sequential(\n",
    "            nn.Linear(linear_input_size, n_outputs),\n",
    "            nn.Sigmoid()\n",
    "        )\n",
    "\n",
    "    def forward(self, x):\n",
    "        x = x.to(device)\n",
    "        x = self.feature_extractor(x)\n",
    "        return self.classifier(x)\n"
   ]
  },
  {
   "cell_type": "code",
   "execution_count": null,
   "metadata": {},
   "outputs": [],
   "source": []
  }
 ],
 "metadata": {
  "kernelspec": {
   "display_name": "Python 3.9.11 ('venv': venv)",
   "language": "python",
   "name": "python3"
  },
  "language_info": {
   "codemirror_mode": {
    "name": "ipython",
    "version": 3
   },
   "file_extension": ".py",
   "mimetype": "text/x-python",
   "name": "python",
   "nbconvert_exporter": "python",
   "pygments_lexer": "ipython3",
   "version": "3.9.11"
  },
  "orig_nbformat": 4,
  "vscode": {
   "interpreter": {
    "hash": "6082ab2b533eca74db7adbc15f5639b525403fc7dce4ad62ac9bac091b4db0a1"
   }
  }
 },
 "nbformat": 4,
 "nbformat_minor": 2
}
