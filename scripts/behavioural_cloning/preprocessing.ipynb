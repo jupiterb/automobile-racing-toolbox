{
 "cells": [
  {
   "cell_type": "code",
   "execution_count": 4,
   "metadata": {},
   "outputs": [
    {
     "name": "stdout",
     "output_type": "stream",
     "text": [
      "[WinError 3] System nie może odnaleźć określonej ścieżki: 'scripts/behavioural_cloning'\n",
      "c:\\Users\\czyjt\\Projects\\engineering-thesis\\automobile-racing-toolbox\\scripts\\behavioural_cloning\n"
     ]
    }
   ],
   "source": [
    "cd scripts/behavioural_cloning"
   ]
  },
  {
   "cell_type": "code",
   "execution_count": 17,
   "metadata": {},
   "outputs": [],
   "source": [
    "from preprocessing import get_episode, process_episode, _flip_vertically, _rescale\n",
    "import pandas as pd\n",
    "import numpy as np\n",
    "from PIL import Image\n",
    "from pathlib import Path\n",
    "import os\n",
    "import matplotlib.pyplot as plt \n",
    "import cv2\n",
    "\n",
    "def _flip_vertically(X, y, action_flipped: dict):\n",
    "    def flip_actions(actions: frozenset):\n",
    "        return frozenset(map(lambda x: action_flipped.get(x, x), actions))\n",
    "        \n",
    "    y_flipped = list(map(flip_actions, y))\n",
    "    X_flipped = np.flip(X, axis=2)\n",
    "    return np.vstack((X, X_flipped)), y + y_flipped"
   ]
  },
  {
   "cell_type": "code",
   "execution_count": 6,
   "metadata": {},
   "outputs": [
    {
     "name": "stderr",
     "output_type": "stream",
     "text": [
      "1410it [00:14, 95.99it/s] \n"
     ]
    },
    {
     "name": "stdout",
     "output_type": "stream",
     "text": [
      "(1410, 800, 1000, 3) 1410\n"
     ]
    }
   ],
   "source": [
    "episode_dir = Path(\"C:\\\\Users\\czyjt\\Projects\\engineering-thesis\\\\automobile-racing-toolbox\\\\appserver\\episode\\dataservice\\data\\\\trackmania\\\\2022-06-13-10-40-23\")\n",
    "csv_path = episode_dir / \"data.csv\"\n",
    "\n",
    "episodes = []\n",
    "\n",
    "X, y = get_episode(episode_dir, csv_path)\n",
    "print(X.shape, len(y))"
   ]
  },
  {
   "cell_type": "markdown",
   "metadata": {},
   "source": [
    "# Prerpocess episode"
   ]
  },
  {
   "cell_type": "code",
   "execution_count": 32,
   "metadata": {},
   "outputs": [],
   "source": [
    "import tables "
   ]
  },
  {
   "cell_type": "code",
   "execution_count": 44,
   "metadata": {},
   "outputs": [],
   "source": [
    "hdf5_path = \"compressed_dataset.hdf5\"\n",
    "extendable_hdf5_file = tables.open_file(hdf5_path, mode='r')\n",
    "images_hdf5 = extendable_hdf5_file.root.images[:]\n",
    "actions_hdf5 = extendable_hdf5_file.root.actions[:]"
   ]
  },
  {
   "cell_type": "code",
   "execution_count": 46,
   "metadata": {},
   "outputs": [
    {
     "data": {
      "text/plain": [
       "(2783, 53, 150, 4)"
      ]
     },
     "execution_count": 46,
     "metadata": {},
     "output_type": "execute_result"
    }
   ],
   "source": [
    "images_hdf5.shape"
   ]
  },
  {
   "cell_type": "code",
   "execution_count": 45,
   "metadata": {},
   "outputs": [],
   "source": [
    "extendable_hdf5_file.close()"
   ]
  },
  {
   "cell_type": "code",
   "execution_count": null,
   "metadata": {},
   "outputs": [],
   "source": []
  }
 ],
 "metadata": {
  "kernelspec": {
   "display_name": "Python 3.9.11 ('venv': venv)",
   "language": "python",
   "name": "python3"
  },
  "language_info": {
   "codemirror_mode": {
    "name": "ipython",
    "version": 3
   },
   "file_extension": ".py",
   "mimetype": "text/x-python",
   "name": "python",
   "nbconvert_exporter": "python",
   "pygments_lexer": "ipython3",
   "version": "3.9.11"
  },
  "orig_nbformat": 4,
  "vscode": {
   "interpreter": {
    "hash": "6082ab2b533eca74db7adbc15f5639b525403fc7dce4ad62ac9bac091b4db0a1"
   }
  }
 },
 "nbformat": 4,
 "nbformat_minor": 2
}
