{
 "cells": [
  {
   "cell_type": "code",
   "execution_count": 1,
   "metadata": {},
   "outputs": [
    {
     "name": "stdout",
     "output_type": "stream",
     "text": [
      "[WinError 3] System nie może odnaleźć określonej ścieżki: 'scripts/behavioural_cloning'\n",
      "c:\\Users\\czyjt\\Projects\\engineering-thesis\\automobile-racing-toolbox\\scripts\\behavioural_cloning\n"
     ]
    }
   ],
   "source": [
    "cd scripts/behavioural_cloning"
   ]
  },
  {
   "cell_type": "code",
   "execution_count": 2,
   "metadata": {},
   "outputs": [],
   "source": [
    "from preprocessing import get_episode, process_episode\n",
    "import pandas as pd\n",
    "import numpy as np\n",
    "from PIL import Image\n",
    "from pathlib import Path\n",
    "import os\n",
    "import matplotlib.pyplot as plt \n",
    "import cv2"
   ]
  },
  {
   "cell_type": "markdown",
   "metadata": {},
   "source": [
    "# REad preprocessed data"
   ]
  },
  {
   "cell_type": "code",
   "execution_count": 3,
   "metadata": {},
   "outputs": [],
   "source": [
    "import tables "
   ]
  },
  {
   "cell_type": "code",
   "execution_count": 4,
   "metadata": {},
   "outputs": [
    {
     "ename": "OSError",
     "evalue": "``C:\\Users\\czyjt\\Projects\\engineering-thesis\\automobile-racing-toolbox\\compressed_dataset.hdf5`` does not exist",
     "output_type": "error",
     "traceback": [
      "\u001b[1;31m---------------------------------------------------------------------------\u001b[0m",
      "\u001b[1;31mOSError\u001b[0m                                   Traceback (most recent call last)",
      "\u001b[1;32mc:\\Users\\czyjt\\Projects\\engineering-thesis\\automobile-racing-toolbox\\scripts\\behavioural_cloning\\preprocessing.ipynb Cell 5'\u001b[0m in \u001b[0;36m<cell line: 2>\u001b[1;34m()\u001b[0m\n\u001b[0;32m      <a href='vscode-notebook-cell:/c%3A/Users/czyjt/Projects/engineering-thesis/automobile-racing-toolbox/scripts/behavioural_cloning/preprocessing.ipynb#ch0000004?line=0'>1</a>\u001b[0m hdf5_path \u001b[39m=\u001b[39m \u001b[39m\"\u001b[39m\u001b[39mC:\u001b[39m\u001b[39m\\\\\u001b[39;00m\u001b[39mUsers\u001b[39m\u001b[39m\\\u001b[39m\u001b[39mczyjt\u001b[39m\u001b[39m\\\u001b[39m\u001b[39mProjects\u001b[39m\u001b[39m\\\u001b[39m\u001b[39mengineering-thesis\u001b[39m\u001b[39m\\\\\u001b[39;00m\u001b[39mautomobile-racing-toolbox\u001b[39m\u001b[39m\\\u001b[39m\u001b[39mcompressed_dataset.hdf5\u001b[39m\u001b[39m\"\u001b[39m\n\u001b[1;32m----> <a href='vscode-notebook-cell:/c%3A/Users/czyjt/Projects/engineering-thesis/automobile-racing-toolbox/scripts/behavioural_cloning/preprocessing.ipynb#ch0000004?line=1'>2</a>\u001b[0m extendable_hdf5_file \u001b[39m=\u001b[39m tables\u001b[39m.\u001b[39;49mopen_file(hdf5_path, mode\u001b[39m=\u001b[39;49m\u001b[39m'\u001b[39;49m\u001b[39mr\u001b[39;49m\u001b[39m'\u001b[39;49m)\n\u001b[0;32m      <a href='vscode-notebook-cell:/c%3A/Users/czyjt/Projects/engineering-thesis/automobile-racing-toolbox/scripts/behavioural_cloning/preprocessing.ipynb#ch0000004?line=2'>3</a>\u001b[0m images_hdf5 \u001b[39m=\u001b[39m extendable_hdf5_file\u001b[39m.\u001b[39mroot\u001b[39m.\u001b[39mimages[:]\n\u001b[0;32m      <a href='vscode-notebook-cell:/c%3A/Users/czyjt/Projects/engineering-thesis/automobile-racing-toolbox/scripts/behavioural_cloning/preprocessing.ipynb#ch0000004?line=3'>4</a>\u001b[0m actions_hdf5 \u001b[39m=\u001b[39m extendable_hdf5_file\u001b[39m.\u001b[39mroot\u001b[39m.\u001b[39mactions[:]\n",
      "File \u001b[1;32mc:\\Users\\czyjt\\Projects\\engineering-thesis\\automobile-racing-toolbox\\venv\\lib\\site-packages\\tables\\file.py:300\u001b[0m, in \u001b[0;36mopen_file\u001b[1;34m(filename, mode, title, root_uep, filters, **kwargs)\u001b[0m\n\u001b[0;32m    295\u001b[0m             \u001b[39mraise\u001b[39;00m \u001b[39mValueError\u001b[39;00m(\n\u001b[0;32m    296\u001b[0m                 \u001b[39m\"\u001b[39m\u001b[39mThe file \u001b[39m\u001b[39m'\u001b[39m\u001b[39m%s\u001b[39;00m\u001b[39m'\u001b[39m\u001b[39m is already opened.  Please \u001b[39m\u001b[39m\"\u001b[39m\n\u001b[0;32m    297\u001b[0m                 \u001b[39m\"\u001b[39m\u001b[39mclose it before reopening in write mode.\u001b[39m\u001b[39m\"\u001b[39m \u001b[39m%\u001b[39m filename)\n\u001b[0;32m    299\u001b[0m \u001b[39m# Finally, create the File instance, and return it\u001b[39;00m\n\u001b[1;32m--> 300\u001b[0m \u001b[39mreturn\u001b[39;00m File(filename, mode, title, root_uep, filters, \u001b[39m*\u001b[39m\u001b[39m*\u001b[39mkwargs)\n",
      "File \u001b[1;32mc:\\Users\\czyjt\\Projects\\engineering-thesis\\automobile-racing-toolbox\\venv\\lib\\site-packages\\tables\\file.py:750\u001b[0m, in \u001b[0;36mFile.__init__\u001b[1;34m(self, filename, mode, title, root_uep, filters, **kwargs)\u001b[0m\n\u001b[0;32m    747\u001b[0m \u001b[39mself\u001b[39m\u001b[39m.\u001b[39mparams \u001b[39m=\u001b[39m params\n\u001b[0;32m    749\u001b[0m \u001b[39m# Now, it is time to initialize the File extension\u001b[39;00m\n\u001b[1;32m--> 750\u001b[0m \u001b[39mself\u001b[39m\u001b[39m.\u001b[39m_g_new(filename, mode, \u001b[39m*\u001b[39m\u001b[39m*\u001b[39mparams)\n\u001b[0;32m    752\u001b[0m \u001b[39m# Check filters and set PyTables format version for new files.\u001b[39;00m\n\u001b[0;32m    753\u001b[0m new \u001b[39m=\u001b[39m \u001b[39mself\u001b[39m\u001b[39m.\u001b[39m_v_new\n",
      "File \u001b[1;32mc:\\Users\\czyjt\\Projects\\engineering-thesis\\automobile-racing-toolbox\\venv\\lib\\site-packages\\tables\\hdf5extension.pyx:368\u001b[0m, in \u001b[0;36mtables.hdf5extension.File._g_new\u001b[1;34m()\u001b[0m\n",
      "File \u001b[1;32mc:\\Users\\czyjt\\Projects\\engineering-thesis\\automobile-racing-toolbox\\venv\\lib\\site-packages\\tables\\utils.py:143\u001b[0m, in \u001b[0;36mcheck_file_access\u001b[1;34m(filename, mode)\u001b[0m\n\u001b[0;32m    140\u001b[0m \u001b[39mif\u001b[39;00m mode \u001b[39m==\u001b[39m \u001b[39m'\u001b[39m\u001b[39mr\u001b[39m\u001b[39m'\u001b[39m:\n\u001b[0;32m    141\u001b[0m     \u001b[39m# The file should be readable.\u001b[39;00m\n\u001b[0;32m    142\u001b[0m     \u001b[39mif\u001b[39;00m \u001b[39mnot\u001b[39;00m os\u001b[39m.\u001b[39maccess(path, os\u001b[39m.\u001b[39mF_OK):\n\u001b[1;32m--> 143\u001b[0m         \u001b[39mraise\u001b[39;00m \u001b[39mOSError\u001b[39;00m(\u001b[39mf\u001b[39m\u001b[39m\"\u001b[39m\u001b[39m``\u001b[39m\u001b[39m{\u001b[39;00mpath\u001b[39m}\u001b[39;00m\u001b[39m`` does not exist\u001b[39m\u001b[39m\"\u001b[39m)\n\u001b[0;32m    144\u001b[0m     \u001b[39mif\u001b[39;00m \u001b[39mnot\u001b[39;00m path\u001b[39m.\u001b[39mis_file():\n\u001b[0;32m    145\u001b[0m         \u001b[39mraise\u001b[39;00m \u001b[39mOSError\u001b[39;00m(\u001b[39mf\u001b[39m\u001b[39m\"\u001b[39m\u001b[39m``\u001b[39m\u001b[39m{\u001b[39;00mpath\u001b[39m}\u001b[39;00m\u001b[39m`` is not a regular file\u001b[39m\u001b[39m\"\u001b[39m)\n",
      "\u001b[1;31mOSError\u001b[0m: ``C:\\Users\\czyjt\\Projects\\engineering-thesis\\automobile-racing-toolbox\\compressed_dataset.hdf5`` does not exist"
     ]
    }
   ],
   "source": [
    "hdf5_path = \"C:\\\\Users\\czyjt\\Projects\\engineering-thesis\\\\automobile-racing-toolbox\\tmnf_10s.hdf5\"\n",
    "extendable_hdf5_file = tables.open_file(hdf5_path, mode='r')\n",
    "images_hdf5 = extendable_hdf5_file.root.images[:]\n",
    "actions_hdf5 = extendable_hdf5_file.root.actions[:]"
   ]
  },
  {
   "cell_type": "code",
   "execution_count": null,
   "metadata": {},
   "outputs": [],
   "source": [
    "extendable_hdf5_file.close() "
   ]
  },
  {
   "cell_type": "code",
   "execution_count": null,
   "metadata": {},
   "outputs": [],
   "source": [
    "import torch as th\n",
    "from torch import nn\n",
    "import torch.nn.functional as F\n",
    "device = th.device(\"cuda\" if th.cuda.is_available() else \"cpu\")"
   ]
  },
  {
   "cell_type": "code",
   "execution_count": null,
   "metadata": {},
   "outputs": [],
   "source": [
    "class MultiLabelnNN(nn.Module):\n",
    "    def __init__(self, n_channels, n_outputs, w, h):\n",
    "        self.feature_extractor =  nn.Sequential(\n",
    "            nn.Conv2d(n_channels, 32, kernel_size=8, stride=4, padding=0),\n",
    "            nn.ReLU(),\n",
    "            nn.Conv2d(32, 64, kernel_size=4, stride=2, padding=0),\n",
    "            nn.ReLU(),\n",
    "            nn.Conv2d(64, 64, kernel_size=3, stride=1, padding=0),\n",
    "            nn.ReLU(),\n",
    "            nn.Flatten()\n",
    "        )\n",
    "\n",
    "        def conv2d_size_out(size, kernel_size, stride):\n",
    "            return (size - (kernel_size - 1) - 1) // stride  + 1\n",
    "\n",
    "        convw = conv2d_size_out(conv2d_size_out(conv2d_size_out(w, 3, 1)))\n",
    "        convh = conv2d_size_out(conv2d_size_out(conv2d_size_out(h, 3, 1)))\n",
    "        linear_input_size = convw * convh * 64\n",
    "\n",
    "        self.classifier = nn.Sequential(\n",
    "            nn.Linear(linear_input_size, n_outputs),\n",
    "            nn.Sigmoid()\n",
    "        )\n",
    "\n",
    "    def forward(self, x):\n",
    "        x = x.to(device)\n",
    "        x = self.feature_extractor(x)\n",
    "        return self.classifier(x)\n"
   ]
  },
  {
   "cell_type": "code",
   "execution_count": null,
   "metadata": {},
   "outputs": [],
   "source": []
  }
 ],
 "metadata": {
  "kernelspec": {
   "display_name": "Python 3.9.11 ('venv': venv)",
   "language": "python",
   "name": "python3"
  },
  "language_info": {
   "codemirror_mode": {
    "name": "ipython",
    "version": 3
   },
   "file_extension": ".py",
   "mimetype": "text/x-python",
   "name": "python",
   "nbconvert_exporter": "python",
   "pygments_lexer": "ipython3",
   "version": "3.9.11"
  },
  "orig_nbformat": 4,
  "vscode": {
   "interpreter": {
    "hash": "6082ab2b533eca74db7adbc15f5639b525403fc7dce4ad62ac9bac091b4db0a1"
   }
  }
 },
 "nbformat": 4,
 "nbformat_minor": 2
}
